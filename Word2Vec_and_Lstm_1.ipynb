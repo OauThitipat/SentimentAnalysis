{
 "cells": [
  {
   "cell_type": "code",
   "execution_count": 0,
   "metadata": {
    "application/vnd.databricks.v1+cell": {
     "cellMetadata": {},
     "inputWidgets": {},
     "nuid": "d393c96f-1643-472b-a275-a6076edc2edd",
     "showTitle": false,
     "title": ""
    },
    "colab": {
     "base_uri": "https://localhost:8080/"
    },
    "id": "NdbNw1n_y3jK",
    "outputId": "0d106712-3eeb-4ac9-bbec-6c3756014a25"
   },
   "outputs": [],
   "source": [
    "!wget --no-check-certificate 'https://docs.google.com/spreadsheets/d/e/2PACX-1vQ_GDXRfpLMoxW430-XRe5anOFIyE0NXYU44dLd57Y3GiQzSUciaxg5ep-IZcdVfJx8kqbXSIoM5U85/pub?output=csv' -O w_train.csv"
   ]
  },
  {
   "cell_type": "code",
   "execution_count": 0,
   "metadata": {
    "application/vnd.databricks.v1+cell": {
     "cellMetadata": {},
     "inputWidgets": {},
     "nuid": "17834ed9-0d1a-4c4b-8a83-ad61acb7b90c",
     "showTitle": false,
     "title": ""
    },
    "colab": {
     "base_uri": "https://localhost:8080/"
    },
    "id": "VcALdNZrwOt1",
    "outputId": "b6506719-c4c5-4932-cdf0-e54cdb35623d"
   },
   "outputs": [],
   "source": [
    "from __future__ import absolute_import, division, print_function, unicode_literals\n",
    "\n",
    "try:\n",
    "  %tensorflow_version 2.x\n",
    "except Exception:\n",
    "  pass"
   ]
  },
  {
   "cell_type": "code",
   "execution_count": 0,
   "metadata": {
    "application/vnd.databricks.v1+cell": {
     "cellMetadata": {},
     "inputWidgets": {},
     "nuid": "e10f984b-fddb-4b47-83b1-285e9ddef9bc",
     "showTitle": false,
     "title": ""
    },
    "id": "x8KWlqwpwxx3"
   },
   "outputs": [],
   "source": [
    "import tensorflow as tf\n",
    "from tensorflow.keras.layers import Dense, LSTM\n",
    "from tensorflow.keras.models import Model\n",
    "from tensorflow.keras.models import Sequential\n",
    "import numpy as np\n",
    "import pandas as pd\n",
    "\n",
    "import tensorflow_hub as hub\n",
    "import numpy as np"
   ]
  },
  {
   "cell_type": "code",
   "execution_count": 0,
   "metadata": {
    "application/vnd.databricks.v1+cell": {
     "cellMetadata": {},
     "inputWidgets": {},
     "nuid": "bbaae9db-dda5-46cb-bd39-01adeb4299aa",
     "showTitle": false,
     "title": ""
    },
    "colab": {
     "base_uri": "https://localhost:8080/",
     "height": 363
    },
    "id": "J96c4-cBzWrY",
    "outputId": "83c63013-1947-487c-b9f0-ca279bc9fd58"
   },
   "outputs": [],
   "source": [
    "import pandas as pd\n",
    "train = pd.read_csv('w_train.csv')\n",
    "train.head(10)"
   ]
  },
  {
   "cell_type": "code",
   "execution_count": 0,
   "metadata": {
    "application/vnd.databricks.v1+cell": {
     "cellMetadata": {},
     "inputWidgets": {},
     "nuid": "484e6606-a3ae-4c89-820e-516fb50612dc",
     "showTitle": false,
     "title": ""
    },
    "colab": {
     "base_uri": "https://localhost:8080/",
     "height": 423
    },
    "id": "GgZ8pt7g2ybh",
    "outputId": "96978b02-b771-4678-cde7-e08e30b5991b"
   },
   "outputs": [],
   "source": [
    "df = pd.DataFrame(train,columns=['tweet','porality'])\n",
    "df"
   ]
  },
  {
   "cell_type": "code",
   "execution_count": 0,
   "metadata": {
    "application/vnd.databricks.v1+cell": {
     "cellMetadata": {},
     "inputWidgets": {},
     "nuid": "dbe09f93-cc16-4cae-966f-f14a3583a37b",
     "showTitle": false,
     "title": ""
    },
    "id": "ulDeoYRhwxvY"
   },
   "outputs": [],
   "source": [
    "# Load Pretrained Word2Vec\n",
    "embed = hub.load(\"https://tfhub.dev/google/Wiki-words-250/2\")"
   ]
  },
  {
   "cell_type": "code",
   "execution_count": 0,
   "metadata": {
    "application/vnd.databricks.v1+cell": {
     "cellMetadata": {},
     "inputWidgets": {},
     "nuid": "e5792419-fbcb-4c43-ba27-aa6d60536d1d",
     "showTitle": false,
     "title": ""
    },
    "id": "h-1d71WKwxs4"
   },
   "outputs": [],
   "source": [
    "def get_max_length(df):\n",
    "    \"\"\"\n",
    "    get max token counts from train data, \n",
    "    so we use this number as fixed length input to RNN cell\n",
    "    \"\"\"\n",
    "    max_length = 0\n",
    "    for row in df['review']:\n",
    "        if len(row.split(\" \")) > max_length:\n",
    "            max_length = len(row.split(\" \"))\n",
    "    return max_length\n",
    "\n",
    "def get_word2vec_enc(reviews):\n",
    "    \"\"\"\n",
    "    get word2vec value for each word in sentence.\n",
    "    concatenate word in numpy array, so we can use it as RNN input\n",
    "    \"\"\"\n",
    "    encoded_reviews = []\n",
    "    for review in reviews:\n",
    "        tokens = review.split(\" \")\n",
    "        word2vec_embedding = embed(tokens)\n",
    "        encoded_reviews.append(word2vec_embedding)\n",
    "    return encoded_reviews\n",
    "        \n",
    "def get_padded_encoded_reviews(encoded_reviews):\n",
    "    \"\"\"\n",
    "    for short sentences, we prepend zero padding so all input to RNN has same length\n",
    "    \"\"\"\n",
    "    padded_reviews_encoding = []\n",
    "    for enc_review in encoded_reviews:\n",
    "        zero_padding_cnt = max_length - enc_review.shape[0]\n",
    "        pad = np.zeros((1, 250))\n",
    "        for i in range(zero_padding_cnt):\n",
    "            enc_review = np.concatenate((pad, enc_review), axis=0)\n",
    "        padded_reviews_encoding.append(enc_review)\n",
    "    return padded_reviews_encoding\n",
    "\n",
    "def sentiment_encode(sentiment):\n",
    "    \"\"\"\n",
    "    return one hot encoding for Y value\n",
    "    \"\"\"\n",
    "    if sentiment == 'positive':\n",
    "        return [1,0]\n",
    "    else:\n",
    "        return [0,1]\n",
    "    \n",
    "def preprocess(df):\n",
    "    \"\"\"\n",
    "    encode text value to numeric value\n",
    "    \"\"\"\n",
    "    # encode words into word2vec\n",
    "    reviews = df['review'].tolist()\n",
    "    \n",
    "    encoded_reviews = get_word2vec_enc(reviews)\n",
    "    padded_encoded_reviews = get_padded_encoded_reviews(encoded_reviews)\n",
    "    # encoded sentiment\n",
    "    sentiments = df['sentiment'].tolist()\n",
    "    encoded_sentiment = [sentiment_encode(sentiment) for sentiment in sentiments]\n",
    "    X = np.array(padded_encoded_reviews)\n",
    "    Y = np.array(encoded_sentiment)\n",
    "    return X, Y "
   ]
  },
  {
   "cell_type": "code",
   "execution_count": 0,
   "metadata": {
    "application/vnd.databricks.v1+cell": {
     "cellMetadata": {},
     "inputWidgets": {},
     "nuid": "aeb6ec5e-5326-4ca6-819d-0a677c007136",
     "showTitle": false,
     "title": ""
    },
    "id": "cFTo7_1_0fjq"
   },
   "outputs": [],
   "source": [
    "def AddFormat(text,sentiment,reviews_train):\n",
    "  format = {'review': text,'sentiment': sentiment}\n",
    "  reviews_train.append(format)\n",
    "  return 0"
   ]
  },
  {
   "cell_type": "code",
   "execution_count": 0,
   "metadata": {
    "application/vnd.databricks.v1+cell": {
     "cellMetadata": {},
     "inputWidgets": {},
     "nuid": "c9400ac0-d61a-453c-a53b-9aa31dc9ee29",
     "showTitle": false,
     "title": ""
    },
    "colab": {
     "base_uri": "https://localhost:8080/"
    },
    "id": "14APxwl9wxqg",
    "outputId": "5a43b395-908f-496d-b83d-84489970e158"
   },
   "outputs": [],
   "source": [
    "reviews_train = []\n",
    "data = np.array(df)\n",
    "for i in data :\n",
    "  AddFormat(i[0],i[1],reviews_train)\n",
    "\n",
    "df = pd.DataFrame(reviews_train)\n",
    "\n",
    "print(reviews_train)\n",
    "# max_length is used for max sequence of input\n",
    "max_length = get_max_length(df)\n",
    "\n",
    "train_X, train_Y = preprocess(df)"
   ]
  },
  {
   "cell_type": "code",
   "execution_count": 0,
   "metadata": {
    "application/vnd.databricks.v1+cell": {
     "cellMetadata": {},
     "inputWidgets": {},
     "nuid": "e58170bb-8409-4756-8d61-0c8f9567bdc2",
     "showTitle": false,
     "title": ""
    },
    "id": "PL5a5d4owxoO"
   },
   "outputs": [],
   "source": [
    "# LSTM model\n",
    "model = Sequential()\n",
    "model.add(LSTM(32))\n",
    "model.add(Dense(2, activation='softmax'))\n",
    "model.compile(loss='categorical_crossentropy',\n",
    "              optimizer='adam',\n",
    "              metrics=['accuracy'])"
   ]
  },
  {
   "cell_type": "code",
   "execution_count": 0,
   "metadata": {
    "application/vnd.databricks.v1+cell": {
     "cellMetadata": {},
     "inputWidgets": {},
     "nuid": "82617d2f-668d-461f-9f21-e6fe970346fb",
     "showTitle": false,
     "title": ""
    },
    "colab": {
     "base_uri": "https://localhost:8080/"
    },
    "id": "L9GAvPLbwxlk",
    "outputId": "7c07ca0d-941e-43e7-fa89-f360b886e1aa"
   },
   "outputs": [],
   "source": [
    "print('Train...')\n",
    "model.fit(train_X, train_Y,epochs=50)"
   ]
  },
  {
   "cell_type": "code",
   "execution_count": 0,
   "metadata": {
    "application/vnd.databricks.v1+cell": {
     "cellMetadata": {},
     "inputWidgets": {},
     "nuid": "79ef3af7-b57e-40c2-92ce-7c53f4fcae45",
     "showTitle": false,
     "title": ""
    },
    "colab": {
     "base_uri": "https://localhost:8080/"
    },
    "id": "S6MFHe6qwxjP",
    "outputId": "174c3c28-f79e-4ac9-c5e2-9c05633002d0"
   },
   "outputs": [],
   "source": [
    "model.summary()"
   ]
  },
  {
   "cell_type": "code",
   "execution_count": 0,
   "metadata": {
    "application/vnd.databricks.v1+cell": {
     "cellMetadata": {},
     "inputWidgets": {},
     "nuid": "2fc25f27-9328-4169-a764-919ca33ede50",
     "showTitle": false,
     "title": ""
    },
    "colab": {
     "base_uri": "https://localhost:8080/"
    },
    "id": "i9EiPFsQwxgK",
    "outputId": "22d89d98-77e6-4e23-997a-618f36a38306"
   },
   "outputs": [],
   "source": [
    "cnn_reviews_test = [\n",
    "         {'review': 'needs to learn to share the desk  and  have a lot to add', 'sentiment': 'positive'},\n",
    "         {'review': 'everyone can be a hero.', 'sentiment': 'positive'},\n",
    "         {'review': 'i think its for to learn to analyze rather than blindly believe', 'sentiment': 'positive'},\n",
    "         {'review': 'russia lost 27 ka52 attack helicopters in the ukraine invasion', 'sentiment': 'negative'},\n",
    "         {'review': 'card games are boring so how did two of them become my favourites of 2022.', 'sentiment': 'negative'},\n",
    "         {'review': 'fuck', 'sentiment': 'negative'}\n",
    "    ]\n",
    "test_df = pd.DataFrame(cnn_reviews_test)\n",
    "\n",
    "test_X, test_Y = preprocess(test_df)\n",
    "\n",
    "score, acc = model.evaluate(test_X, test_Y, verbose=2)\n",
    "print('Test score:', score)\n",
    "print('Test accuracy:', acc)"
   ]
  }
 ],
 "metadata": {
  "application/vnd.databricks.v1+notebook": {
   "dashboards": [],
   "language": "python",
   "notebookMetadata": {},
   "notebookName": "Word2Vec_and_Lstm_1",
   "notebookOrigID": 3081052037848991,
   "widgets": {}
  },
  "colab": {
   "provenance": []
  },
  "kernelspec": {
   "display_name": "Python 3",
   "name": "python3"
  },
  "language_info": {
   "name": "python"
  }
 },
 "nbformat": 4,
 "nbformat_minor": 0
}
